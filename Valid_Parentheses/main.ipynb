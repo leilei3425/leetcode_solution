{
 "cells": [
  {
   "cell_type": "code",
   "execution_count": 6,
   "metadata": {},
   "outputs": [
    {
     "name": "stdout",
     "output_type": "stream",
     "text": [
      "(\n",
      ")\n",
      "[\n",
      "]\n",
      "{\n",
      "}\n"
     ]
    }
   ],
   "source": [
    "s = \"()[]{}\"\n",
    "\n",
    "for item in s:\n",
    "    print(item)"
   ]
  },
  {
   "cell_type": "code",
   "execution_count": 5,
   "metadata": {},
   "outputs": [],
   "source": [
    "class Solution:\n",
    "    def isValid(self, s: str) -> bool:\n",
    "        dic = {')':'(',\n",
    "                ']':'[',\n",
    "                '}':'{'}\n",
    "        stack = []\n",
    "        for item in s:\n",
    "            if len(stack)==0:\n",
    "                stack.append(item)\n",
    "            else:\n",
    "                if item in dic and dic[item] == stack[-1]:\n",
    "                    stack.pop(-1)\n",
    "                else:\n",
    "                    stack.append(item)\n",
    "\n",
    "        if len(stack) == 0:\n",
    "            return True\n",
    "        else:\n",
    "            return False"
   ]
  }
 ],
 "metadata": {
  "kernelspec": {
   "display_name": "base",
   "language": "python",
   "name": "python3"
  },
  "language_info": {
   "codemirror_mode": {
    "name": "ipython",
    "version": 3
   },
   "file_extension": ".py",
   "mimetype": "text/x-python",
   "name": "python",
   "nbconvert_exporter": "python",
   "pygments_lexer": "ipython3",
   "version": "3.12.7"
  }
 },
 "nbformat": 4,
 "nbformat_minor": 2
}
